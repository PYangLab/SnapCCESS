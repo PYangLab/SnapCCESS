{
 "cells": [
  {
   "cell_type": "code",
   "execution_count": 1,
   "id": "01982add",
   "metadata": {},
   "outputs": [],
   "source": [
    "import pandas as pd\n",
    "import numpy as np\n",
    "from torch.utils.data import Dataset, DataLoader\n",
    "from snapccess.model import snapshotVAE, Encoder\n",
    "from snapccess.train import train_model\n",
    "from snapccess.util import setup_seed,TabularDataset\n",
    "\n",
    "from sklearn.cluster import KMeans"
   ]
  },
  {
   "cell_type": "code",
   "execution_count": 2,
   "id": "c9634250",
   "metadata": {},
   "outputs": [],
   "source": [
    "## read datasets\n",
    "path = '../in/'\n",
    "out = '../out/'\n",
    "\n",
    "ctfile = 'CITEseq_celltypes.csv.gz'\n",
    "rnafile = 'CITEseq_logRNA.csv.gz'\n",
    "adtfile = 'CITEseq_logADT.csv.gz'\n",
    "\n",
    "celltype = pd.read_csv(path+ctfile, index_col=0)\n",
    "\n",
    "rna = pd.read_csv(path+rnafile, index_col=0).T\n",
    "rna = rna.reset_index(drop=True)\n",
    " \n",
    "pro = pd.read_csv(path+adtfile, index_col=0).T\n",
    "pro = pro.reset_index(drop=True)\n",
    "\n",
    "## get the number of features\n",
    "nfeatures_rna = rna.shape[1]\n",
    "nfeatures_pro = pro.shape[1]"
   ]
  },
  {
   "cell_type": "code",
   "execution_count": 3,
   "id": "5f829b2e",
   "metadata": {
    "scrolled": false
   },
   "outputs": [],
   "source": [
    "## parameters\n",
    "batch_size = 64\n",
    "epochs_per_cycle = 2\n",
    "epochs = epochs_per_cycle*10\n",
    "lr = 0.02\n",
    "z_dim = 100\n",
    "hidden_rna2 = 185 \n",
    "hidden_pro2 = 30 \n",
    "feature_num = nfeatures_rna + nfeatures_pro \n",
    "## standardise each modality of the dataset\n",
    "rna_sample_scaled=(pd.DataFrame(rna)-pd.DataFrame(rna).mean())/pd.DataFrame(rna).std()\n",
    "pro_sample_scaled=(pd.DataFrame(pro)-pd.DataFrame(pro).mean())/pd.DataFrame(pro).std()\n",
    "\n",
    "# combine the standardised modalities to create input data\n",
    "citeseq = pd.concat([rna_sample_scaled, pro_sample_scaled], axis=1)\n",
    "train_data=citeseq.to_numpy(dtype=np.float32)\n",
    "\n",
    "# load data\n",
    "train_transformed_dataset = TabularDataset(train_data)\n",
    "train_dl = DataLoader(train_transformed_dataset, batch_size=batch_size,shuffle=False, num_workers=0,drop_last=False)\n",
    "test_transformed_dataset = TabularDataset(train_data)\n",
    "valid_dl = DataLoader(test_transformed_dataset, batch_size=batch_size, shuffle=False, num_workers=0,drop_last=False)"
   ]
  },
  {
   "cell_type": "code",
   "execution_count": 4,
   "id": "db85212d",
   "metadata": {},
   "outputs": [],
   "source": [
    "## run VAE with Snapshot\n",
    "model = snapshotVAE(num_features=[nfeatures_rna,nfeatures_pro], num_hidden_features=[hidden_rna2,hidden_pro2], z_dim=z_dim).cuda()"
   ]
  },
  {
   "cell_type": "code",
   "execution_count": 5,
   "id": "6b2a7e10",
   "metadata": {},
   "outputs": [
    {
     "name": "stderr",
     "output_type": "stream",
     "text": [
      "100%|█████████████████████████████████████████████████████████████████████████████████████████████████████████████████████████████████████████████████████████████████████████████████████████████████████████| 20/20 [00:07<00:00,  2.70it/s]\n"
     ]
    }
   ],
   "source": [
    "##cuda = True if torch.cuda.is_available() else False\n",
    "## train the model and generate embeddings, train_dl and valid_dl are the same dataset\n",
    "model,histroy,embedding = train_model(model, train_dl, valid_dl, lr=lr, epochs=epochs,epochs_per_cycle=epochs_per_cycle, save_path=\"\",snapshot=True,embedding_number=1)"
   ]
  },
  {
   "cell_type": "code",
   "execution_count": 6,
   "id": "1df0f9e4",
   "metadata": {},
   "outputs": [
    {
     "data": {
      "text/plain": [
       "array([1, 2, 3, ..., 1, 0, 2], dtype=int32)"
      ]
     },
     "execution_count": 6,
     "metadata": {},
     "output_type": "execute_result"
    }
   ],
   "source": [
    "## simple kmeans for one embedding\n",
    "kmeans = KMeans(n_clusters=4, random_state=0, n_init=\"auto\").fit(embedding[0])\n",
    "kmeans.labels_"
   ]
  },
  {
   "cell_type": "code",
   "execution_count": 7,
   "id": "4c67da44",
   "metadata": {},
   "outputs": [],
   "source": [
    "## save all embeddings\n",
    "for ind,eb in enumerate(embedding):\n",
    "    eb.to_csv(out+'CITEseq'+'_embedding_{}.csv.gz'.format(ind),\n",
    "        index=False,compression=\"gzip\")"
   ]
  }
 ],
 "metadata": {
  "kernelspec": {
   "display_name": "Python 3 (ipykernel)",
   "language": "python",
   "name": "python3"
  },
  "language_info": {
   "codemirror_mode": {
    "name": "ipython",
    "version": 3
   },
   "file_extension": ".py",
   "mimetype": "text/x-python",
   "name": "python",
   "nbconvert_exporter": "python",
   "pygments_lexer": "ipython3",
   "version": "3.8.15"
  }
 },
 "nbformat": 4,
 "nbformat_minor": 5
}
